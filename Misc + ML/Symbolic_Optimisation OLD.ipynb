{
  "nbformat": 4,
  "nbformat_minor": 0,
  "metadata": {
    "colab": {
      "provenance": []
    },
    "kernelspec": {
      "name": "python3",
      "display_name": "Python 3"
    },
    "language_info": {
      "name": "python"
    }
  },
  "cells": [
    {
      "cell_type": "markdown",
      "source": [
        "1. Define the parameters.\n",
        "\n",
        "2. Define the Lagrangian.\n",
        "\n",
        "$$ L(x, y, λ) = f(x, y) + λg(x, y) $$\n",
        "\n",
        "3. Derive the Lagrangian to get the FOCs.\n",
        "\n",
        "4. Solve the FOCs to get the endogenous variables in terms of exogenous parameters.\n",
        "\n",
        "5. Define the equilibrium equation and substitute FOCs and Gen 0 solution.\n",
        "\n",
        "6. Solve the equilibrium equation for the real interest rate.\n",
        "\n",
        "7. Reinput the equilibrium"
      ],
      "metadata": {
        "id": "fKfp6Yjq_31e"
      }
    },
    {
      "cell_type": "markdown",
      "source": [
        "## OLG Baseline Model"
      ],
      "metadata": {
        "id": "x0nv0ZA5lN1x"
      }
    },
    {
      "cell_type": "code",
      "source": [
        "import sympy as sy\n",
        "from sympy import symbols, IndexedBase, diff, solve, log, Eq\n",
        "sy.init_printing()\n",
        "\n",
        "# Define a time variable and time-varying variable.\n",
        "t, λ, r, s, A_t, β, T, a, n, α, 𝛿 = symbols('t λ r s A_t β T a n α 𝛿')\n",
        "c_o = IndexedBase('c^{o}')\n",
        "c_y = IndexedBase('c^{y}')\n",
        "w = IndexedBase('w')\n",
        "w_y = IndexedBase('w^{y}')\n",
        "N = IndexedBase('N')\n",
        "τ = IndexedBase(\"τ\")\n",
        "k = IndexedBase(\"k\")\n",
        "\n",
        "endog = [c_y[t], c_o[t+1], λ]\n",
        "\n",
        "## ––––––––––––––––– Utility Maximisation ––––––––––––––––– ##\n",
        "# Define the Lagrangian function and constraints.\n",
        "BC_y = Eq(c_y[t] + s, w[t]*A_t)\n",
        "BC_o = Eq(c_o[t+1], s*(1 + r) - τ[t+1]*r*s + T*r)\n",
        "savings = sy.solve(BC_y, s)[0]\n",
        "BC_pv = BC_o.subs(s, savings)\n",
        "f = log(c_y[t]) + β*log(c_o[t+1])\n",
        "L = f + λ*(BC_pv.rhs - BC_pv.lhs)\n",
        "\n",
        "print(\"Budget (young):\")\n",
        "display(BC_y)\n",
        "print(\"\\nBudget (old): \")\n",
        "display(BC_o)\n",
        "print(\"\\nPV Budget: \")\n",
        "display(BC_pv)\n",
        "print(\"\\nLagrangian:  \",)\n",
        "display(L)\n",
        "\n",
        "\n",
        "\n",
        "# Compute and solve the system of derivatives.\n",
        "FOCs = [diff(L, var) for var in endog]\n",
        "print(\"\\nFOCs\")\n",
        "display(FOCs)\n",
        "sols = solve(FOCs, endog, dict=True, manual=True)\n",
        "print(\"\\nSols\")\n",
        "display(sols)\n",
        "\n",
        "## ––––––––––––––––– Equilibrium ––––––––––––––––– ##\n",
        "# X = [Eq(sols[0][list(sols[0].keys())[i]], list(sols[0].keys())[i]) for i in range(len(sols[0].keys()))]\n",
        "\n",
        "# equilibrium_eq = Eq(w_y[t] + w_o[t], c_y[t] + c_o[t])\n",
        "# util_gen_0 = Eq(c_o[t], w_o[t])\n",
        "\n",
        "# # Substitute into the equilibrium equation.\n",
        "# equilibrium_eq = equilibrium_eq.subs({c_o[t]: w_o[t], c_y[t]: sols[0][c_y[t]]})\n",
        "\n",
        "# r_ = solve(equilibrium_eq, [r], dict=True, exlude=[w_o[t], w_y[t]])\n",
        "# #final_endog = [sy.simplify(eq.subs(r, r_[0][r])) for eq in X]\n",
        "\n",
        "# print(\"FOCs solved for the utility maximisation exercise: ^\", display(X))\n",
        "# print(\"\\n\")\n",
        "# print(\"Equilibrium real interest rate: ^\", display(r_))\n",
        "# print(\"\\n\")\n",
        "# print(\"Final values for consumption: ^\", display(final_endog))"
      ],
      "metadata": {
        "id": "JwQ1FoinAEGf",
        "colab": {
          "base_uri": "https://localhost:8080/",
          "height": 381
        },
        "outputId": "12c918d5-5183-4d28-d959-bf5ee77e2035"
      },
      "execution_count": null,
      "outputs": [
        {
          "output_type": "stream",
          "name": "stdout",
          "text": [
            "Budget (young):\n"
          ]
        },
        {
          "output_type": "display_data",
          "data": {
            "text/plain": [
              "s + c^{y}[t] = Aₜ⋅w[t]"
            ],
            "text/latex": "$\\displaystyle s + {c^{y}}_{t} = A_{t} {w}_{t}$"
          },
          "metadata": {}
        },
        {
          "output_type": "stream",
          "name": "stdout",
          "text": [
            "\n",
            "Budget (old): \n"
          ]
        },
        {
          "output_type": "display_data",
          "data": {
            "text/plain": [
              "c^{o}[t + 1] = T⋅r - r⋅s⋅τ[t + 1] + s⋅(r + 1)"
            ],
            "text/latex": "$\\displaystyle {c^{o}}_{t + 1} = T r - r s {τ}_{t + 1} + s \\left(r + 1\\right)$"
          },
          "metadata": {}
        },
        {
          "output_type": "stream",
          "name": "stdout",
          "text": [
            "\n",
            "PV Budget: \n"
          ]
        },
        {
          "output_type": "display_data",
          "data": {
            "text/plain": [
              "c^{o}[t + 1] = T⋅r - r⋅(Aₜ⋅w[t] - c^{y}[t])⋅τ[t + 1] + (r + 1)⋅(Aₜ⋅w[t] - c^{y\n",
              "}[t])"
            ],
            "text/latex": "$\\displaystyle {c^{o}}_{t + 1} = T r - r \\left(A_{t} {w}_{t} - {c^{y}}_{t}\\right) {τ}_{t + 1} + \\left(r + 1\\right) \\left(A_{t} {w}_{t} - {c^{y}}_{t}\\right)$"
          },
          "metadata": {}
        },
        {
          "output_type": "stream",
          "name": "stdout",
          "text": [
            "\n",
            "Lagrangian:  \n"
          ]
        },
        {
          "output_type": "display_data",
          "data": {
            "text/plain": [
              "β⋅log(c^{o}[t + 1]) + λ⋅(T⋅r - r⋅(Aₜ⋅w[t] - c^{y}[t])⋅τ[t + 1] + (r + 1)⋅(Aₜ⋅w\n",
              "[t] - c^{y}[t]) - c^{o}[t + 1]) + log(c^{y}[t])"
            ],
            "text/latex": "$\\displaystyle β \\log{\\left({c^{o}}_{t + 1} \\right)} + λ \\left(T r - r \\left(A_{t} {w}_{t} - {c^{y}}_{t}\\right) {τ}_{t + 1} + \\left(r + 1\\right) \\left(A_{t} {w}_{t} - {c^{y}}_{t}\\right) - {c^{o}}_{t + 1}\\right) + \\log{\\left({c^{y}}_{t} \\right)}$"
          },
          "metadata": {}
        },
        {
          "output_type": "stream",
          "name": "stdout",
          "text": [
            "\n",
            "FOCs\n"
          ]
        },
        {
          "output_type": "display_data",
          "data": {
            "text/plain": [
              "⎡                            1           β                                    \n",
              "⎢λ⋅(r⋅τ[t + 1] - r - 1) + ────────, ──────────── - λ, T⋅r - r⋅(Aₜ⋅w[t] - c^{y}\n",
              "⎣                         c^{y}[t]  c^{o}[t + 1]                              \n",
              "\n",
              "                                                           ⎤\n",
              "[t])⋅τ[t + 1] + (r + 1)⋅(Aₜ⋅w[t] - c^{y}[t]) - c^{o}[t + 1]⎥\n",
              "                                                           ⎦"
            ],
            "text/latex": "$\\displaystyle \\left[ λ \\left(r {τ}_{t + 1} - r - 1\\right) + \\frac{1}{{c^{y}}_{t}}, \\  \\frac{β}{{c^{o}}_{t + 1}} - λ, \\  T r - r \\left(A_{t} {w}_{t} - {c^{y}}_{t}\\right) {τ}_{t + 1} + \\left(r + 1\\right) \\left(A_{t} {w}_{t} - {c^{y}}_{t}\\right) - {c^{o}}_{t + 1}\\right]$"
          },
          "metadata": {}
        },
        {
          "output_type": "stream",
          "name": "stdout",
          "text": [
            "\n",
            "Sols\n"
          ]
        },
        {
          "output_type": "display_data",
          "data": {
            "text/plain": [
              "⎡⎧                        β + 1                                     β⋅(-Aₜ⋅r⋅w\n",
              "⎢⎨λ: ───────────────────────────────────────────────, c^{o}[t + 1]: ──────────\n",
              "⎣⎩   -Aₜ⋅r⋅w[t]⋅τ[t + 1] + Aₜ⋅r⋅w[t] + Aₜ⋅w[t] + T⋅r                          \n",
              "\n",
              "[t]⋅τ[t + 1] + Aₜ⋅r⋅w[t] + Aₜ⋅w[t] + T⋅r)            -Aₜ⋅r⋅w[t]⋅τ[t + 1] + Aₜ⋅\n",
              "─────────────────────────────────────────, c^{y}[t]: ─────────────────────────\n",
              "             β + 1                                            (β + 1)⋅(-r⋅τ[t \n",
              "\n",
              "r⋅w[t] + Aₜ⋅w[t] + T⋅r⎫⎤\n",
              "──────────────────────⎬⎥\n",
              "+ 1] + r + 1)         ⎭⎦"
            ],
            "text/latex": "$\\displaystyle \\left[ \\left\\{ λ : \\frac{β + 1}{- A_{t} r {w}_{t} {τ}_{t + 1} + A_{t} r {w}_{t} + A_{t} {w}_{t} + T r}, \\  {c^{o}}_{t + 1} : \\frac{β \\left(- A_{t} r {w}_{t} {τ}_{t + 1} + A_{t} r {w}_{t} + A_{t} {w}_{t} + T r\\right)}{β + 1}, \\  {c^{y}}_{t} : \\frac{- A_{t} r {w}_{t} {τ}_{t + 1} + A_{t} r {w}_{t} + A_{t} {w}_{t} + T r}{\\left(β + 1\\right) \\left(- r {τ}_{t + 1} + r + 1\\right)}\\right\\}\\right]$"
          },
          "metadata": {}
        }
      ]
    },
    {
      "cell_type": "code",
      "source": [
        "s_t = (w[t]*A_t - sols[0][c_y[t]]).simplify()\n",
        "\n",
        "s_eq = Eq(s, (w[t]*A_t*β*(1 + r*(1 - τ[t+1])) - τ[t+1]*r*s)/((1 + β)*(1 + r*(1 - τ[t+1]))))\n",
        "display(s_eq)\n",
        "print(\"\")\n",
        "display(solve(s_eq, [s]))"
      ],
      "metadata": {
        "colab": {
          "base_uri": "https://localhost:8080/",
          "height": 115
        },
        "id": "--WZN-f3LIPi",
        "outputId": "f6b58ae4-3f6d-449c-da74-95403bd56deb"
      },
      "execution_count": null,
      "outputs": [
        {
          "output_type": "display_data",
          "data": {
            "text/plain": [
              "    Aₜ⋅β⋅(r⋅(1 - τ[t + 1]) + 1)⋅w[t] - r⋅s⋅τ[t + 1]\n",
              "s = ───────────────────────────────────────────────\n",
              "             (β + 1)⋅(r⋅(1 - τ[t + 1]) + 1)        "
            ],
            "text/latex": "$\\displaystyle s = \\frac{A_{t} β \\left(r \\left(1 - {τ}_{t + 1}\\right) + 1\\right) {w}_{t} - r s {τ}_{t + 1}}{\\left(β + 1\\right) \\left(r \\left(1 - {τ}_{t + 1}\\right) + 1\\right)}$"
          },
          "metadata": {}
        },
        {
          "output_type": "stream",
          "name": "stdout",
          "text": [
            "\n"
          ]
        },
        {
          "output_type": "display_data",
          "data": {
            "text/plain": [
              "⎡Aₜ⋅β⋅(-r⋅τ[t + 1] + r + 1)⋅w[t]⎤\n",
              "⎢───────────────────────────────⎥\n",
              "⎣-r⋅β⋅τ[t + 1] + r⋅β + r + β + 1⎦"
            ],
            "text/latex": "$\\displaystyle \\left[ \\frac{A_{t} β \\left(- r {τ}_{t + 1} + r + 1\\right) {w}_{t}}{- r β {τ}_{t + 1} + r β + r + β + 1}\\right]$"
          },
          "metadata": {}
        }
      ]
    },
    {
      "cell_type": "code",
      "source": [
        "capital = Eq(k[t+1], ((1-α)*k[t]**(α)*β*(1 + (α*k[t+1]**(α-1)-𝛿)*(1 - τ[t+1]))) / (a*n*((1 + β)*(1 + (α * k[t+1]**(α-1) - 𝛿)*(1 - τ[t+1])) + τ[t+1]*(α*k[t+1]**(α-1) - 𝛿))))\n",
        "#solve(capital, [k[t+1]])\n",
        "Eq(capital.rhs.diff(τ[t+1]), 0).simplify()\n",
        "#display(capital)"
      ],
      "metadata": {
        "colab": {
          "base_uri": "https://localhost:8080/",
          "height": 55
        },
        "id": "oFZgvhrQj4s4",
        "outputId": "ea746a98-7c0b-4a42-ae86-8d63bc635f83"
      },
      "execution_count": null,
      "outputs": [
        {
          "output_type": "execute_result",
          "data": {
            "text/plain": [
              "          ⎛  ⎛          α - 1    ⎞ ⎛        ⎛⎛          α - 1    ⎞            \n",
              "β⋅(α - 1)⋅⎝- ⎝α⋅k[t + 1]      - 𝛿⎠⋅⎝(β + 1)⋅⎝⎝α⋅k[t + 1]      - 𝛿⎠⋅(τ[t + 1] -\n",
              "──────────────────────────────────────────────────────────────────────────────\n",
              "                                                                              \n",
              "                                                                         ⎛    \n",
              "                                                                     a⋅n⋅⎝(β +\n",
              "\n",
              "       ⎞   ⎛          α - 1    ⎞         ⎞   ⎛⎛          α - 1    ⎞           \n",
              " 1) - 1⎠ - ⎝α⋅k[t + 1]      - 𝛿⎠⋅τ[t + 1]⎠ + ⎝⎝α⋅k[t + 1]      - 𝛿⎠⋅(τ[t + 1] \n",
              "──────────────────────────────────────────────────────────────────────────────\n",
              "                                                                              \n",
              "    ⎛⎛          α - 1    ⎞                   ⎞   ⎛          α - 1    ⎞        \n",
              " 1)⋅⎝⎝α⋅k[t + 1]      - 𝛿⎠⋅(τ[t + 1] - 1) - 1⎠ - ⎝α⋅k[t + 1]      - 𝛿⎠⋅τ[t + 1\n",
              "\n",
              "        ⎞ ⎛            α - 1               ⎛          α - 1    ⎞⎞⎞     α    \n",
              "- 1) - 1⎠⋅⎝- α⋅k[t + 1]      + 𝛿 + (β + 1)⋅⎝α⋅k[t + 1]      - 𝛿⎠⎠⎠⋅k[t]     \n",
              "──────────────────────────────────────────────────────────────────────── = 0\n",
              "  2                                                                         \n",
              " ⎞                                                                          \n",
              "]⎠                                                                          "
            ],
            "text/latex": "$\\displaystyle \\frac{β \\left(α - 1\\right) \\left(- \\left(α {k}_{t + 1}^{α - 1} - 𝛿\\right) \\left(\\left(β + 1\\right) \\left(\\left(α {k}_{t + 1}^{α - 1} - 𝛿\\right) \\left({τ}_{t + 1} - 1\\right) - 1\\right) - \\left(α {k}_{t + 1}^{α - 1} - 𝛿\\right) {τ}_{t + 1}\\right) + \\left(\\left(α {k}_{t + 1}^{α - 1} - 𝛿\\right) \\left({τ}_{t + 1} - 1\\right) - 1\\right) \\left(- α {k}_{t + 1}^{α - 1} + 𝛿 + \\left(β + 1\\right) \\left(α {k}_{t + 1}^{α - 1} - 𝛿\\right)\\right)\\right) {k}_{t}^{α}}{a n \\left(\\left(β + 1\\right) \\left(\\left(α {k}_{t + 1}^{α - 1} - 𝛿\\right) \\left({τ}_{t + 1} - 1\\right) - 1\\right) - \\left(α {k}_{t + 1}^{α - 1} - 𝛿\\right) {τ}_{t + 1}\\right)^{2}} = 0$"
          },
          "metadata": {},
          "execution_count": 40
        }
      ]
    },
    {
      "cell_type": "code",
      "source": [
        "capital = Eq(k, ((1-α)*k**(α)*β*(1 + (α*k**(α-1)-𝛿)*(1 - τ[t+1]))) / (a*n*((1 + β)*(1 + (α * k**(α-1) - 𝛿)*(1 - τ[t+1])) + τ[t+1]*(α*k**(α-1) - 𝛿))))\n",
        "capital.rhs.diff(τ[t+1])"
      ],
      "metadata": {
        "colab": {
          "base_uri": "https://localhost:8080/",
          "height": 55
        },
        "id": "Cc3hB-E_vE5d",
        "outputId": "d7e2d72e-0621-4db0-8f26-a86a2f3271cb"
      },
      "execution_count": null,
      "outputs": [
        {
          "output_type": "execute_result",
          "data": {
            "text/plain": [
              "                                 ⎛     α - 1    ⎞  α                          \n",
              "                       β⋅(1 - α)⋅⎝- α⋅k      + 𝛿⎠⋅k                           \n",
              "─────────────────────────────────────────────────────────────────────────── + \n",
              "    ⎛        ⎛               ⎛   α - 1    ⎞    ⎞   ⎛   α - 1    ⎞         ⎞   \n",
              "a⋅n⋅⎝(β + 1)⋅⎝(1 - τ[t + 1])⋅⎝α⋅k      - 𝛿⎠ + 1⎠ + ⎝α⋅k      - 𝛿⎠⋅τ[t + 1]⎠   \n",
              "                                                                              \n",
              "\n",
              "          ⎛               ⎛   α - 1    ⎞    ⎞ ⎛     α - 1               ⎛     \n",
              "β⋅(1 - α)⋅⎝(1 - τ[t + 1])⋅⎝α⋅k      - 𝛿⎠ + 1⎠⋅⎝- α⋅k      + 𝛿 - (β + 1)⋅⎝- α⋅k\n",
              "──────────────────────────────────────────────────────────────────────────────\n",
              "                                                                              \n",
              "            ⎛        ⎛               ⎛   α - 1    ⎞    ⎞   ⎛   α - 1    ⎞     \n",
              "        a⋅n⋅⎝(β + 1)⋅⎝(1 - τ[t + 1])⋅⎝α⋅k      - 𝛿⎠ + 1⎠ + ⎝α⋅k      - 𝛿⎠⋅τ[t \n",
              "\n",
              "α - 1    ⎞⎞  α\n",
              "      + 𝛿⎠⎠⋅k \n",
              "──────────────\n",
              "     2        \n",
              "    ⎞         \n",
              "+ 1]⎠         "
            ],
            "text/latex": "$\\displaystyle \\frac{β \\left(1 - α\\right) \\left(- α k^{α - 1} + 𝛿\\right) k^{α}}{a n \\left(\\left(β + 1\\right) \\left(\\left(1 - {τ}_{t + 1}\\right) \\left(α k^{α - 1} - 𝛿\\right) + 1\\right) + \\left(α k^{α - 1} - 𝛿\\right) {τ}_{t + 1}\\right)} + \\frac{β \\left(1 - α\\right) \\left(\\left(1 - {τ}_{t + 1}\\right) \\left(α k^{α - 1} - 𝛿\\right) + 1\\right) \\left(- α k^{α - 1} + 𝛿 - \\left(β + 1\\right) \\left(- α k^{α - 1} + 𝛿\\right)\\right) k^{α}}{a n \\left(\\left(β + 1\\right) \\left(\\left(1 - {τ}_{t + 1}\\right) \\left(α k^{α - 1} - 𝛿\\right) + 1\\right) + \\left(α k^{α - 1} - 𝛿\\right) {τ}_{t + 1}\\right)^{2}}$"
          },
          "metadata": {},
          "execution_count": 42
        }
      ]
    },
    {
      "cell_type": "markdown",
      "source": [
        "## OLG w/ Fiscal Policy"
      ],
      "metadata": {
        "id": "cCcUdr8ThR3s"
      }
    },
    {
      "cell_type": "code",
      "source": [
        "import sympy as sy\n",
        "from sympy import symbols, IndexedBase, diff, solve, log, Eq\n",
        "sy.init_printing()\n",
        "\n",
        "# Define a time variable and time-varying variable.\n",
        "t, λ, r = symbols('t λ r')\n",
        "c = IndexedBase('c')\n",
        "T = IndexedBase('T')\n",
        "w = IndexedBase('w')\n",
        "\n",
        "endog = [c[t], c[t+1], λ]\n",
        "\n",
        "# Define the Lagrangian function and constraints.\n",
        "g = c[t] + c[t+1]/(1+r) - w[t+1]/(1+r) - w[t] + T[t+1]/(1+r) + T[t]\n",
        "L = log(c[t]) + log(c[t+1]) + λ*g\n",
        "\n",
        "# Compute the system of derivatives.\n",
        "eqs = [diff(L, var) for var in endog]\n",
        "\n",
        "# Compute the Lagrange multiplier.\n",
        "sols = solve(eqs, endog, dict=True)"
      ],
      "metadata": {
        "id": "AD33oGu_lVeN"
      },
      "execution_count": null,
      "outputs": []
    },
    {
      "cell_type": "code",
      "source": [
        "sols"
      ],
      "metadata": {
        "colab": {
          "base_uri": "https://localhost:8080/",
          "height": 78
        },
        "id": "jQDOUB4pmCVx",
        "outputId": "5133f67b-f90e-4134-e678-f80beaab13a8"
      },
      "execution_count": null,
      "outputs": [
        {
          "output_type": "execute_result",
          "data": {
            "text/plain": [
              "⎡⎧                        2⋅(r + 1)                                   r⋅T[t]  \n",
              "⎢⎨λ: ───────────────────────────────────────────────────, c[t + 1]: - ────── +\n",
              "⎣⎩   r⋅T[t] - r⋅w[t] + T[t + 1] + T[t] - w[t + 1] - w[t]                2     \n",
              "\n",
              " r⋅w[t]   T[t + 1]   T[t]   w[t + 1]   w[t]        -r⋅T[t] + r⋅w[t] - T[t + 1]\n",
              " ────── - ──────── - ──── + ──────── + ────, c[t]: ───────────────────────────\n",
              "   2         2        2        2        2                               2⋅(r +\n",
              "\n",
              " - T[t] + w[t + 1] + w[t]⎫⎤\n",
              "─────────────────────────⎬⎥\n",
              " 1)                      ⎭⎦"
            ],
            "text/latex": "$\\displaystyle \\left[ \\left\\{ λ : \\frac{2 \\left(r + 1\\right)}{r {T}_{t} - r {w}_{t} + {T}_{t + 1} + {T}_{t} - {w}_{t + 1} - {w}_{t}}, \\  {c}_{t + 1} : - \\frac{r {T}_{t}}{2} + \\frac{r {w}_{t}}{2} - \\frac{{T}_{t + 1}}{2} - \\frac{{T}_{t}}{2} + \\frac{{w}_{t + 1}}{2} + \\frac{{w}_{t}}{2}, \\  {c}_{t} : \\frac{- r {T}_{t} + r {w}_{t} - {T}_{t + 1} - {T}_{t} + {w}_{t + 1} + {w}_{t}}{2 \\left(r + 1\\right)}\\right\\}\\right]$"
          },
          "metadata": {},
          "execution_count": 69
        }
      ]
    },
    {
      "cell_type": "markdown",
      "source": [
        "## OLG w/ Money"
      ],
      "metadata": {
        "id": "-f9xo2jBRHXx"
      }
    },
    {
      "cell_type": "code",
      "source": [
        "import sympy as sy\n",
        "from sympy import symbols, IndexedBase, diff, solve, log, Eq\n",
        "sy.init_printing()\n",
        "\n",
        "# Define a time variable and time-varying variable.\n",
        "t, λ, r = symbols('t λ r')\n",
        "c_o = IndexedBase('c^{o}')\n",
        "c_y = IndexedBase('c^{y}')\n",
        "w_o = IndexedBase('w^{o}')\n",
        "w_y = IndexedBase('w^{y}')\n",
        "p = IndexedBase('p')\n",
        "m = IndexedBase('m')\n",
        "endog = [c_y[t], c_o[t+1], λ]\n",
        "\n",
        "## ––––––––––––––––– Utility Maximisation ––––––––––––––––– ##\n",
        "# Define the Lagrangian function and constraints.\n",
        "BC_y = Eq(p[t]*c_y[t] + m[t], p[t]*w_y[t])\n",
        "BC_o = Eq(p[t+1]*c_o[t+1], p[t+1]*w_o[t+1] + m[t+1])\n",
        "money_demand = sy.solve(BC_y, m[t])[0]\n",
        "BC_pv = BC_o.subs(m[t+1], money_demand)\n",
        "f = log(c_y[t]) + log(c_o[t+1])\n",
        "L = f + λ*(BC_pv.rhs - BC_pv.lhs)\n",
        "\n",
        "# Compute and solve the system of derivatives.\n",
        "FOCs = [diff(L, var) for var in endog]\n",
        "sols = solve(FOCs, endog, dict=True)\n",
        "\n",
        "## ––––––––––––––––– Money Demand ––––––––––––––––– ##\n",
        "solved_moneyD = money_demand.subs(c_y[t], sols[0][c_y[t]])\n",
        "p_solved_md = solve(Eq(m[t], solved_moneyD), [p[t+1]])\n",
        "\n",
        "## ––––––––––––––––– Equilibrium ––––––––––––––––– ##\n",
        "X = [Eq(sols[0][list(sols[0].keys())[i]], list(sols[0].keys())[i]) for i in range(len(sols[0].keys()))]\n",
        "\n",
        "equilibrium_eq = Eq(w_y[t] + w_o[t], c_y[t] + c_o[t])\n",
        "util_gen_0 = Eq(c_o[t], w_o[t] + m[t]/p[t])\n",
        "\n",
        "# Substitute into the equilibrium equation.\n",
        "equilibrium_eq = equilibrium_eq.subs({c_o[t]: util_gen_0.rhs, c_y[t]: sols[0][c_y[t]]})\n",
        "\n",
        "p_solved = solve(equilibrium_eq, [p[t+1]], dict=True, exlude=[w_o[t], w_y[t]])\n",
        "#final_endog = [sy.simplify(eq.subs(r, r_[0][r])) for eq in X]\n",
        "\n",
        "print(\"FOCs solved for the utility maximisation exercise: \\n\")\n",
        "display(X)\n",
        "print(\"\\n\")\n",
        "print(\"Equilibrium price (equil): \\n\")\n",
        "display(p_solved)\n",
        "print(\"\\n\")\n",
        "print(\"Equilibrium price (money): \\n\")\n",
        "display(p_solved_md)"
      ],
      "metadata": {
        "colab": {
          "base_uri": "https://localhost:8080/",
          "height": 318
        },
        "id": "Mfw7iNYWRakS",
        "outputId": "a6448a1f-a0a8-4b83-9992-cd13d76f3a68"
      },
      "execution_count": null,
      "outputs": [
        {
          "output_type": "stream",
          "name": "stdout",
          "text": [
            "FOCs solved for the utility maximisation exercise: \n",
            "\n"
          ]
        },
        {
          "output_type": "display_data",
          "data": {
            "text/plain": [
              "⎡                  2                        p[t + 1]⋅w^{o}[t + 1] + p[t]⋅w^{y}\n",
              "⎢───────────────────────────────────── = λ, ──────────────────────────────────\n",
              "⎣p[t + 1]⋅w^{o}[t + 1] + p[t]⋅w^{y}[t]                      2⋅p[t]            \n",
              "\n",
              "[t]             w^{o}[t + 1]   p[t]⋅w^{y}[t]               ⎤\n",
              "─── = c^{y}[t], ──────────── + ───────────── = c^{o}[t + 1]⎥\n",
              "                     2           2⋅p[t + 1]                ⎦"
            ],
            "text/latex": "$\\displaystyle \\left[ \\frac{2}{{p}_{t + 1} {w^{o}}_{t + 1} + {p}_{t} {w^{y}}_{t}} = λ, \\  \\frac{{p}_{t + 1} {w^{o}}_{t + 1} + {p}_{t} {w^{y}}_{t}}{2 {p}_{t}} = {c^{y}}_{t}, \\  \\frac{{w^{o}}_{t + 1}}{2} + \\frac{{p}_{t} {w^{y}}_{t}}{2 {p}_{t + 1}} = {c^{o}}_{t + 1}\\right]$"
          },
          "metadata": {}
        },
        {
          "output_type": "stream",
          "name": "stdout",
          "text": [
            "\n",
            "\n",
            "Equilibrium price (equil): \n",
            "\n"
          ]
        },
        {
          "output_type": "display_data",
          "data": {
            "text/plain": [
              "⎡⎧          -2⋅m[t] + p[t]⋅w^{y}[t]⎫⎤\n",
              "⎢⎨p[t + 1]: ───────────────────────⎬⎥\n",
              "⎣⎩                w^{o}[t + 1]     ⎭⎦"
            ],
            "text/latex": "$\\displaystyle \\left[ \\left\\{ {p}_{t + 1} : \\frac{- 2 {m}_{t} + {p}_{t} {w^{y}}_{t}}{{w^{o}}_{t + 1}}\\right\\}\\right]$"
          },
          "metadata": {}
        },
        {
          "output_type": "stream",
          "name": "stdout",
          "text": [
            "\n",
            "\n",
            "Equilibrium price (money): \n",
            "\n"
          ]
        },
        {
          "output_type": "display_data",
          "data": {
            "text/plain": [
              "⎡-2⋅m[t] + p[t]⋅w^{y}[t]⎤\n",
              "⎢───────────────────────⎥\n",
              "⎣      w^{o}[t + 1]     ⎦"
            ],
            "text/latex": "$\\displaystyle \\left[ \\frac{- 2 {m}_{t} + {p}_{t} {w^{y}}_{t}}{{w^{o}}_{t + 1}}\\right]$"
          },
          "metadata": {}
        }
      ]
    },
    {
      "cell_type": "code",
      "source": [
        "display(L)"
      ],
      "metadata": {
        "colab": {
          "base_uri": "https://localhost:8080/",
          "height": 39
        },
        "id": "40Wn1PdORsyd",
        "outputId": "f469b46e-21ac-49bb-c113-6f09d18fb635"
      },
      "execution_count": null,
      "outputs": [
        {
          "output_type": "display_data",
          "data": {
            "text/plain": [
              "λ⋅((-c^{y}[t] + w^{y}[t])⋅p[t] - c^{o}[t + 1]⋅p[t + 1] + p[t + 1]⋅w^{o}[t + 1]\n",
              ") + log(c^{o}[t + 1]) + log(c^{y}[t])"
            ],
            "text/latex": "$\\displaystyle λ \\left(\\left(- {c^{y}}_{t} + {w^{y}}_{t}\\right) {p}_{t} - {c^{o}}_{t + 1} {p}_{t + 1} + {p}_{t + 1} {w^{o}}_{t + 1}\\right) + \\log{\\left({c^{o}}_{t + 1} \\right)} + \\log{\\left({c^{y}}_{t} \\right)}$"
          },
          "metadata": {}
        }
      ]
    },
    {
      "cell_type": "markdown",
      "source": [
        "# Seminar Questions"
      ],
      "metadata": {
        "id": "SZ7rNDzdbcKR"
      }
    },
    {
      "cell_type": "markdown",
      "source": [
        "## 1.\n",
        "\n",
        "Consider the overlapping generations model in the first part of the notes with endowments ωty and ωto that can vary across generations. Show that the unique competitive equilibrium continues to be no trade if:\n",
        "\n",
        "• population varies exogenously across generations, with N0 denoting the population of the initial old generation and Nt denoting the population of the generation born in period t ≥ 1; and\n",
        "\n",
        "• each consumer born in period t ≥ 1 has the same utility function Ut(cyt , cot+1) where Ut satisfies standard microeconomic properties but is not restricted to be Cobb–Douglas."
      ],
      "metadata": {
        "id": "NvSIIYYpbgC3"
      }
    },
    {
      "cell_type": "code",
      "source": [
        "import sympy as sy\n",
        "from sympy import symbols, IndexedBase, diff, solve, log, Eq\n",
        "sy.init_printing()\n",
        "\n",
        "# Define a time variable and time-varying variable.\n",
        "t, λ, r, s = symbols('t λ r s')\n",
        "c_o = IndexedBase('c^{o}')\n",
        "c_y = IndexedBase('c^{y}')\n",
        "w_o = IndexedBase('w^{o}')\n",
        "w_y = IndexedBase('w^{y}')\n",
        "N = IndexedBase('N')\n",
        "endog = [c_y[t], c_o[t+1], λ]\n",
        "\n",
        "## ––––––––––––––––– Utility Maximisation ––––––––––––––––– ##\n",
        "# Define the Lagrangian function and constraints.\n",
        "BC_y = Eq(c_y[t] + s, w_y[t])\n",
        "BC_o = Eq(c_o[t+1], s*(1+r) + w_o[t+1])\n",
        "savings = sy.solve(BC_y, s)[0]\n",
        "BC_pv = BC_o.subs(s, savings)\n",
        "f = log(c_y[t]) + log(c_o[t+1])\n",
        "L = f + λ*(BC_pv.rhs - BC_pv.lhs)\n",
        "\n",
        "# Compute and solve the system of derivatives.\n",
        "FOCs = [diff(L, var) for var in endog]\n",
        "sols = solve(FOCs, endog, dict=True)\n",
        "\n",
        "## ––––––––––––––––– Equilibrium ––––––––––––––––– ##\n",
        "X = [Eq(sols[0][list(sols[0].keys())[i]], list(sols[0].keys())[i]) for i in range(len(sols[0].keys()))]\n",
        "\n",
        "equilibrium_eq = Eq(w_y[t] + w_o[t], c_y[t] + c_o[t])\n",
        "util_gen_0 = Eq(c_o[t], w_o[t])\n",
        "\n",
        "# Substitute into the equilibrium equation.\n",
        "equilibrium_eq = equilibrium_eq.subs({c_o[t]: w_o[t], c_y[t]: sols[0][c_y[t]]})\n",
        "\n",
        "r_ = solve(equilibrium_eq, [r], dict=True, exlude=[w_o[t], w_y[t]])\n",
        "final_endog = [sy.simplify(eq.subs(r, r_[0][r])) for eq in X]\n",
        "\n",
        "print(\"FOCs solved for the utility maximisation exercise: ^\", display(X))\n",
        "print(\"\\n\")\n",
        "print(\"Equilibrium real interest rate: ^\", display(r_))\n",
        "print(\"\\n\")\n",
        "print(\"Final values for consumption: ^\", display(final_endog))"
      ],
      "metadata": {
        "colab": {
          "base_uri": "https://localhost:8080/",
          "height": 264
        },
        "id": "EV0bG88cbvKV",
        "outputId": "98764805-b66f-466a-8165-6a07e4735bfb"
      },
      "execution_count": null,
      "outputs": [
        {
          "output_type": "display_data",
          "data": {
            "text/plain": [
              "⎡                 2                        r⋅w^{y}[t] + w^{o}[t + 1] + w^{y}[t\n",
              "⎢──────────────────────────────────── = λ, ───────────────────────────────────\n",
              "⎣r⋅w^{y}[t] + w^{o}[t + 1] + w^{y}[t]                   2⋅(r + 1)             \n",
              "\n",
              "]             r⋅w^{y}[t]   w^{o}[t + 1]   w^{y}[t]               ⎤\n",
              "─ = c^{y}[t], ────────── + ──────────── + ──────── = c^{o}[t + 1]⎥\n",
              "                  2             2            2                   ⎦"
            ],
            "text/latex": "$\\displaystyle \\left[ \\frac{2}{r {w^{y}}_{t} + {w^{o}}_{t + 1} + {w^{y}}_{t}} = λ, \\  \\frac{r {w^{y}}_{t} + {w^{o}}_{t + 1} + {w^{y}}_{t}}{2 \\left(r + 1\\right)} = {c^{y}}_{t}, \\  \\frac{r {w^{y}}_{t}}{2} + \\frac{{w^{o}}_{t + 1}}{2} + \\frac{{w^{y}}_{t}}{2} = {c^{o}}_{t + 1}\\right]$"
          },
          "metadata": {}
        },
        {
          "output_type": "stream",
          "name": "stdout",
          "text": [
            "FOCs solved for the utility maximisation exercise: ^ None\n",
            "\n",
            "\n"
          ]
        },
        {
          "output_type": "display_data",
          "data": {
            "text/plain": [
              "⎡⎧   w^{o}[t + 1] - w^{y}[t]⎫⎤\n",
              "⎢⎨r: ───────────────────────⎬⎥\n",
              "⎣⎩           w^{y}[t]       ⎭⎦"
            ],
            "text/latex": "$\\displaystyle \\left[ \\left\\{ r : \\frac{{w^{o}}_{t + 1} - {w^{y}}_{t}}{{w^{y}}_{t}}\\right\\}\\right]$"
          },
          "metadata": {}
        },
        {
          "output_type": "stream",
          "name": "stdout",
          "text": [
            "Equilibrium real interest rate: ^ None\n",
            "\n",
            "\n"
          ]
        },
        {
          "output_type": "display_data",
          "data": {
            "text/plain": [
              "⎡         1                                                        ⎤\n",
              "⎢λ = ────────────, c^{y}[t] = w^{y}[t], c^{o}[t + 1] = w^{o}[t + 1]⎥\n",
              "⎣    w^{o}[t + 1]                                                  ⎦"
            ],
            "text/latex": "$\\displaystyle \\left[ λ = \\frac{1}{{w^{o}}_{t + 1}}, \\  {c^{y}}_{t} = {w^{y}}_{t}, \\  {c^{o}}_{t + 1} = {w^{o}}_{t + 1}\\right]$"
          },
          "metadata": {}
        },
        {
          "output_type": "stream",
          "name": "stdout",
          "text": [
            "Final values for consumption: ^ None\n"
          ]
        }
      ]
    },
    {
      "cell_type": "markdown",
      "source": [
        "## Symbolic Lagrangian"
      ],
      "metadata": {
        "id": "Gc_addebM91k"
      }
    },
    {
      "cell_type": "code",
      "source": [
        "#Constrained Optimisation with Equality Constraints\n",
        "import sympy as sy\n",
        "import numpy as np\n",
        "from sympy import symbols, Function, Eq, dsolve, diff, oo, print_latex\n",
        "sy.init_printing()\n",
        "\n",
        "a, A, m, l, b, λ, w, T0, x, y, p, z, β, p_, pbar, s_, sbar, θ_, θbar, μ = sy.symbols('a A m l b λ w T0 x y p z β p pbar s sbar θ θbar μ')  # Define Symbols\n",
        "w_, wbar, z_, zbar = symbols(\"w_u wbar z_u zbar\")\n",
        "\n",
        "constraints = [\n",
        "    Eq(0.25*w_**(1/3) + 0.75*wbar**(1/3) - 2, 2),\n",
        "]\n",
        "lag_multis = [λ, μ]\n",
        "\n",
        "f = 0.25*(100 - w_) + 0.75*(400 - wbar)\n",
        "endog = [w_, wbar, λ]\n",
        "\n",
        "L = f\n",
        "\n",
        "print(\"Function to optimise:\")\n",
        "display(f)\n",
        "print(\"\\nContstraints:\")\n",
        "[display(const) for const in constraints]\n",
        "print(\"\\nEndog variables (inc lambdas):\")\n",
        "display(endog)\n",
        "\n",
        "for multi, const in zip(lag_multis, constraints):\n",
        "  L = L + multi*(const.rhs - const.lhs)\n",
        "  print(\"\\nLagrangian to be optimised:\")\n",
        "  display(L)\n",
        "\n",
        "# Compute and solve the system of derivatives.\n",
        "FOCs = [diff(L, var) for var in endog]\n",
        "sols = solve(FOCs, endog, dict=True)\n",
        "\n",
        "print(\"\\nFinal values:\")\n",
        "display(sols)"
      ],
      "metadata": {
        "colab": {
          "base_uri": "https://localhost:8080/",
          "height": 305
        },
        "id": "yYBVnrt8ND-Y",
        "outputId": "f2de97b7-a874-49f3-f175-242bcf0c6c12"
      },
      "execution_count": null,
      "outputs": [
        {
          "output_type": "stream",
          "name": "stdout",
          "text": [
            "\n",
            "Function to optimise:\n"
          ]
        },
        {
          "output_type": "display_data",
          "data": {
            "text/plain": [
              "-0.25⋅wᵤ - 0.75⋅w̅ + 325.0"
            ],
            "text/latex": "$\\displaystyle - 0.25 w_{u} - 0.75 \\bar{w} + 325.0$"
          },
          "metadata": {}
        },
        {
          "output_type": "stream",
          "name": "stdout",
          "text": [
            "\n",
            "Contstraints:\n"
          ]
        },
        {
          "output_type": "display_data",
          "data": {
            "text/plain": [
              "       0.333333333333333         0.333333333333333        \n",
              "0.25⋅wᵤ                  + 0.75⋅w̅                  - 2 = 2"
            ],
            "text/latex": "$\\displaystyle 0.25 w_{u}^{0.333333333333333} + 0.75 \\bar{w}^{0.333333333333333} - 2 = 2$"
          },
          "metadata": {}
        },
        {
          "output_type": "stream",
          "name": "stdout",
          "text": [
            "\n",
            "Endog variables (inc lambdas):\n"
          ]
        },
        {
          "output_type": "display_data",
          "data": {
            "text/plain": [
              "[wᵤ, w̅, λ]"
            ],
            "text/latex": "$\\displaystyle \\left[ w_{u}, \\  \\bar{w}, \\  λ\\right]$"
          },
          "metadata": {}
        },
        {
          "output_type": "stream",
          "name": "stdout",
          "text": [
            "\n",
            "Lagrangian to be optimised:\n"
          ]
        },
        {
          "output_type": "display_data",
          "data": {
            "text/plain": [
              "                      ⎛         0.333333333333333         0.333333333333333   \n",
              "-0.25⋅wᵤ - 0.75⋅w̅ + λ⋅⎝- 0.25⋅wᵤ                  - 0.75⋅w̅                  \n",
              "\n",
              " ⎞        \n",
              "+ 4⎠ + 325.0"
            ],
            "text/latex": "$\\displaystyle - 0.25 w_{u} - 0.75 \\bar{w} + λ \\left(- 0.25 w_{u}^{0.333333333333333} - 0.75 \\bar{w}^{0.333333333333333} + 4\\right) + 325.0$"
          },
          "metadata": {}
        },
        {
          "output_type": "stream",
          "name": "stdout",
          "text": [
            "\n",
            "Final values:\n"
          ]
        },
        {
          "output_type": "display_data",
          "data": {
            "text/plain": [
              "[{wᵤ: 64.0, w̅: 64.0, λ: -48.0}]"
            ],
            "text/latex": "$\\displaystyle \\left[ \\left\\{ w_{u} : 64.0, \\  \\bar{w} : 64.0, \\  λ : -48.0\\right\\}\\right]$"
          },
          "metadata": {}
        }
      ]
    },
    {
      "cell_type": "markdown",
      "source": [
        "## Linear Numerical Optimisation"
      ],
      "metadata": {
        "id": "duLRb2rXM_rO"
      }
    },
    {
      "cell_type": "code",
      "source": [
        "import numpy as np\n",
        "from scipy.optimize import linprog\n",
        "\n",
        "# Objective function coefficients (minimizing -(175 - 0.25w_L - 0.75w_h))\n",
        "c = np.array([0.25, 0.75])\n",
        "\n",
        "# Coefficients for inequality constraints (left-hand side)\n",
        "A = np.array([\n",
        "    [-0.25, -0.75],  # 0.75w_h + 0.25w_L  ≥ 10 => -0.25w_L - 0.75w_h  ≤ -10\n",
        "    [-1, 1],         # w_h - w_L  ≥ 12       =>     -w_L + w_h       ≤ -12\n",
        "])\n",
        "\n",
        "# Right-hand side of inequality constraints\n",
        "b = np.array([-10, -12])\n",
        "\n",
        "# Bounds for the decision variables w_L and w_h\n",
        "w_L_bounds = (0, None)\n",
        "w_h_bounds = (0, None)\n",
        "\n",
        "# Solve the linear program\n",
        "res = linprog(c, A_ub=A, b_ub=b, bounds=[w_L_bounds, w_h_bounds], method='highs')\n",
        "\n",
        "# Print the results\n",
        "w_L, w_h = res.x\n",
        "max_F = 175 - 0.25 * w_L - 0.75 * w_h\n",
        "print(f\"Optimal solution: w_L = {w_L}, w_h = {w_h}\")\n",
        "print(f\"Maximum value of F(w_L, w_h): {max_F}\")\n"
      ],
      "metadata": {
        "id": "t560xEl4ccLO",
        "colab": {
          "base_uri": "https://localhost:8080/"
        },
        "outputId": "b87b2591-1220-4557-866b-317bb7d22db4"
      },
      "execution_count": null,
      "outputs": [
        {
          "output_type": "stream",
          "name": "stdout",
          "text": [
            "Optimal solution: w_L = 40.0, w_h = 0.0\n",
            "Maximum value of F(w_L, w_h): 165.0\n"
          ]
        }
      ]
    },
    {
      "cell_type": "markdown",
      "source": [
        "## Nonlinear Numerical Optimisation"
      ],
      "metadata": {
        "id": "7aRn_6PmJVU6"
      }
    },
    {
      "cell_type": "code",
      "source": [
        "import numpy as np\n",
        "from scipy.optimize import minimize\n",
        "\n",
        "# Objective function (minimizing -(175 - 0.25w_L - 0.75w_h))\n",
        "def objective(w):\n",
        "    w_L, w_h = w\n",
        "    return -1 * (175 - 0.25 * w_L**2 - 0.75 * w_h**2)\n",
        "\n",
        "# Constraints\n",
        "def constraint1(w):\n",
        "    w_L, w_h = w\n",
        "    return 0.5 * w_L + 1.5 * w_h - 6\n",
        "\n",
        "def constraint2(w):\n",
        "    w_L, w_h = w\n",
        "    return 0.5 * w_L + 1.5 * w_h - 6 - 1.5 * w_L - 0.5 * w_h\n",
        "\n",
        "# Constraints dictionary\n",
        "constraints = (\n",
        "    {\"type\": \"ineq\", \"fun\": constraint1},\n",
        "    {\"type\": \"ineq\", \"fun\": constraint2},\n",
        ")\n",
        "\n",
        "# Initial guess (starting point for the optimization algorithm)\n",
        "w0 = np.array([1, 1])\n",
        "\n",
        "# Bounds for the decision variables w_L and w_h\n",
        "bounds = [(0, None), (0, None)]\n",
        "\n",
        "# Solve the nonlinear optimization problem\n",
        "res = minimize(objective, w0, bounds=bounds, constraints=constraints)\n",
        "\n",
        "# Print the results\n",
        "w_L, w_h = res.x\n",
        "max_F = 175 - 0.25 * w_L - 0.75 * w_h\n",
        "print(f\"Optimal solution: w_L = {w_L}, w_h = {w_h}\")\n",
        "print(f\"Maximum value of F(w_L, w_h): {max_F}\")\n"
      ],
      "metadata": {
        "colab": {
          "base_uri": "https://localhost:8080/"
        },
        "id": "CT5Tc4iesACd",
        "outputId": "6646df01-b0a0-420c-af2e-bd9eebaa9187"
      },
      "execution_count": null,
      "outputs": [
        {
          "output_type": "stream",
          "name": "stdout",
          "text": [
            "Optimal solution: w_L = 0.0, w_h = 6.000000000000313\n",
            "Maximum value of F(w_L, w_h): 170.49999999999977\n"
          ]
        }
      ]
    },
    {
      "cell_type": "code",
      "source": [
        "import sympy as sy\n",
        "from sympy import symbols, IndexedBase, diff, solve, log, Eq, sqrt\n",
        "sy.init_printing()\n",
        "\n",
        "# Define a time variable and time-varying variable.\n",
        "t, λ, r, s = symbols('t λ r s')\n",
        "w_L = IndexedBase('w_{L}')\n",
        "w_H = IndexedBase('w_{H}')\n",
        "\n",
        "sy.solve([Eq(0.25*(w_L**(1/3) - 2) + 0.75*(w_H**(1/3) - 2), 2), Eq(0.25*(w_L**(1/3) - 2) + 0.75*(w_H**(1/3) - 2), 0.75*(w_L**(1/3) - 1) + 0.25*(w_H**(1/3) - 1))], [w_L, w_H], dict=True)"
      ],
      "metadata": {
        "colab": {
          "base_uri": "https://localhost:8080/",
          "height": 39
        },
        "id": "ez7jnMcNsHlb",
        "outputId": "1b57952b-72a6-4b9c-e358-c4351ac87e68"
      },
      "execution_count": null,
      "outputs": [
        {
          "output_type": "execute_result",
          "data": {
            "text/plain": [
              "[{w_{H}: 91.125, w_{L}: 15.625}]"
            ],
            "text/latex": "$\\displaystyle \\left[ \\left\\{ w_{H} : 91.125, \\  w_{L} : 15.625\\right\\}\\right]$"
          },
          "metadata": {},
          "execution_count": 20
        }
      ]
    },
    {
      "cell_type": "markdown",
      "source": [
        "## Algebra"
      ],
      "metadata": {
        "id": "E24peYiZy1_5"
      }
    },
    {
      "cell_type": "code",
      "source": [
        "import sympy as sy\n",
        "from sympy import symbols, IndexedBase, diff, solve, log, Eq, sqrt\n",
        "sy.init_printing()\n",
        "\n",
        "# Define a time variable and time-varying variable.\n",
        "t, λ, r, s, v, x_j, x_i, c_i, c_j = symbols('t λ r s v x_j x_i c_i c_j')\n",
        "#x_j = v*c_i/(c_i + c_j)**2\n",
        "\n",
        "exp = Eq(x_j, sqrt((v*x_i)/c_j) - x_i)\n",
        "dxidxj = sy.diff(exp.rhs, x_i)\n",
        "final = dxidxj.subs(x_i, v*c_j/((c_i + c_j)**2)).simplify()"
      ],
      "metadata": {
        "id": "e8esmuMCeKHI"
      },
      "execution_count": null,
      "outputs": []
    },
    {
      "cell_type": "code",
      "source": [
        "exp2.subs({v: 1, c_i: 1, c_j: 1, x_j: 1}) == dxidxj.subs({v: 1, c_i: 1, c_j: 1, x_j: 1}"
      ],
      "metadata": {
        "colab": {
          "base_uri": "https://localhost:8080/"
        },
        "id": "3cp5VhuSgCOB",
        "outputId": "0845070a-2209-4399-ab96-40c0f908486b"
      },
      "execution_count": null,
      "outputs": [
        {
          "output_type": "execute_result",
          "data": {
            "text/plain": [
              "True"
            ]
          },
          "metadata": {},
          "execution_count": 27
        }
      ]
    },
    {
      "cell_type": "code",
      "source": [
        "sy.expand(final), sy.simplify(final), sy.factor(final), sy.collect(final, c_i), sy.cancel(final), sy.powsimp(final)"
      ],
      "metadata": {
        "id": "_s3N3djXhffp"
      },
      "execution_count": null,
      "outputs": []
    },
    {
      "cell_type": "markdown",
      "source": [
        "## KT Conditions"
      ],
      "metadata": {
        "id": "jIbgGtRMHWBG"
      }
    },
    {
      "cell_type": "code",
      "source": [
        "# Constrained Optimisation with Inequality Constraints\n",
        "import sympy as sy\n",
        "import matplotlib.pyplot as plt\n",
        "import numpy as np\n",
        "from sympy import symbols, Function, Eq, dsolve, diff, oo, print_latex, sqrt, solve\n",
        "sy.init_printing()\n",
        "\n",
        "a, A, m, l, b, λ, w, T0, x, y, p, z, β, p_, pbar, s_, sbar, θ_, θbar, μ = sy.symbols('a A m l b λ w T0 x y p z β p pbar s sbar θ θbar μ')  # Define Symbols\n",
        "w_, wbar, z_, zbar = symbols(\"w_u wbar z_u zbar\")\n",
        "\n",
        "# Make sure x ≥ y Eq(x, y)\n",
        "constraints = [\n",
        "    Eq(0.25*z_ + 0.75*zbar - 2, 2),\n",
        "    Eq(0.25*z_ + 0.75*zbar - 2, 0.75*z_ + 0.25*zbar - 0)\n",
        "]\n",
        "lag_multis = [λ, μ]\n",
        "\n",
        "f = 0.25*(100 - z_**3) + 0.75*(400 - zbar**3)\n",
        "endog = [zbar, z_]\n",
        "endog_all = endog + lag_multis\n",
        "\n",
        "# –––––––––––––––––––––––––––––––– Plotting ––––––––––––––––––––––––––––––––––– #\n",
        "\n",
        "# Plotting constraints\n",
        "z_values = np.linspace(-2, 10, 1000)\n",
        "\n",
        "zbar_values_1 = np.array([zbar_1.subs(z_, z_val) for z_val in z_values], dtype=float)\n",
        "zbar_values_2 = np.array([zbar_2.subs(z_, z_val) for z_val in z_values], dtype=float)\n",
        "\n",
        "plt.plot(z_values, zbar_values_1, label='IR')\n",
        "plt.plot(z_values, zbar_values_2, label='IC')\n",
        "\n",
        "# Fill the area above the maximum of both curves\n",
        "upper_limit = np.maximum(zbar_values_1, zbar_values_2)\n",
        "plt.fill_between(z_values, upper_limit, max(upper_limit) + 1, alpha=0.3, color='gray', label='Feasible Area')\n",
        "\n",
        "# Add axes\n",
        "plt.axhline(0, color='black', lw=0.5)\n",
        "plt.axvline(0, color='black', lw=0.5)\n",
        "\n",
        "plt.xlabel('z')\n",
        "plt.ylabel('zbar')\n",
        "plt.legend()\n",
        "plt.title('Constraints')\n",
        "plt.xlim([-2, 10])\n",
        "plt.ylim([-2, 10])\n",
        "plt.show()\n",
        "\n",
        "# –––––––––––––––––––––––––––––––– Optimisation ––––––––––––––––––––––––––––––––––– #\n",
        "\n",
        "L = f\n",
        "\n",
        "print(\"Function to optimise:\")\n",
        "display(f)\n",
        "print(\"\\nContstraints:\")\n",
        "[display(const) for const in constraints]\n",
        "print(\"\\nEndog variables (inc lambdas):\")\n",
        "display(endog)\n",
        "display(endog_all)\n",
        "\n",
        "for multi, const in zip(lag_multis, constraints):\n",
        "  L = L + multi*(const.lhs - const.rhs)\n",
        "print(\"\\nLagrangian to be optimised:\")\n",
        "display(L)\n",
        "\n",
        "# Compute and solve the system of derivatives.\n",
        "FOCs = [diff(L, var) for var in endog_all]\n",
        "print(\"\\nFirst-Order Conditions:\")\n",
        "display(FOCs)\n",
        "\n",
        "FOCs_endog = [FOC for FOC in FOCs[:-len(constraints)]]\n",
        "FOCs_const = [Eq(FOC,0) for FOC in FOCs[-len(constraints):]]\n",
        "\n",
        "# μ > 0 & λ > 0\n",
        "print(\"\\nμ > 0 & λ > 0 (IR & IC binding)\")\n",
        "sols = solve(FOCs, endog_all, dict=True)\n",
        "display(sols)\n",
        "\n",
        "for multi in lag_multis:\n",
        "  print(f\"TEST {multi}: {sols[0][multi] > 0}\")\n",
        "\n",
        "# μ = 0 & λ > 0\n",
        "print(\"\\nμ = 0 & λ > 0 (IR binding)\")\n",
        "FOC_temp = [FOC.subs({μ: 0}) for FOC in FOCs_endog]\n",
        "FOC_const_2 = FOCs_const[lag_multis.index(λ)]\n",
        "res = solve(FOC_temp + [FOC_const_2], endog + [λ], dict=True)\n",
        "display(res)\n",
        "try:\n",
        "  for i in range(len(res)):\n",
        "    display(FOCs_const[lag_multis.index(μ)].lhs.subs(res[i]) > 0)\n",
        "except:\n",
        "  print(\"False\")\n",
        "\n",
        "\n",
        "\n",
        "# μ > 0 & λ = 0\n",
        "print(\"\\nμ > 0 & λ = 0 (IC binding)\")\n",
        "FOC_temp = [FOC.subs({λ: 0}) for FOC in FOCs_endog]\n",
        "FOC_const_2 = FOCs_const[lag_multis.index(μ)]\n",
        "res = solve(FOC_temp + [FOC_const_2], endog + [μ], dict=True)\n",
        "display(res)\n",
        "try:\n",
        "  for i in range(len(res)):\n",
        "    display(FOCs_const[lag_multis.index(λ)].lhs.subs(res[i]) > 0)\n",
        "except:\n",
        "  print(\"False\")\n",
        "\n",
        "\n",
        "# μ = 0 & λ = 0\n",
        "print(\"\\nμ = 0 & λ = 0 (neither binding)\")\n",
        "FOC_temp = [FOC.subs({μ: 0, λ: 0}) for FOC in FOCs_endog]\n",
        "res = solve(FOC_temp, endog, dict=True)\n",
        "display(res)\n",
        "display(FOCs_const[lag_multis.index(λ)].lhs.subs(res[0]) > 0)\n",
        "display(FOCs_const[lag_multis.index(μ)].lhs.subs(res[0]) > 0)"
      ],
      "metadata": {
        "colab": {
          "base_uri": "https://localhost:8080/",
          "height": 1015
        },
        "id": "xsyRIqM8HZH0",
        "outputId": "1bd026d1-8912-4127-be0b-7900e566681a"
      },
      "execution_count": null,
      "outputs": [
        {
          "output_type": "display_data",
          "data": {
            "text/plain": [
              "<Figure size 640x480 with 1 Axes>"
            ],
            "image/png": "[encoded data removed]"
          },
          "metadata": {}
        },
        {
          "output_type": "stream",
          "name": "stdout",
          "text": [
            "Function to optimise:\n"
          ]
        },
        {
          "output_type": "display_data",
          "data": {
            "text/plain": [
              "         3         3        \n",
              "- 0.25⋅zᵤ  - 0.75⋅z̅  + 325.0"
            ],
            "text/latex": "$\\displaystyle - 0.25 z_{u}^{3} - 0.75 \\bar{z}^{3} + 325.0$"
          },
          "metadata": {}
        },
        {
          "output_type": "stream",
          "name": "stdout",
          "text": [
            "\n",
            "Contstraints:\n"
          ]
        },
        {
          "output_type": "display_data",
          "data": {
            "text/plain": [
              "0.25⋅zᵤ + 0.75⋅z̅ - 2 = 2"
            ],
            "text/latex": "$\\displaystyle 0.25 z_{u} + 0.75 \\bar{z} - 2 = 2$"
          },
          "metadata": {}
        },
        {
          "output_type": "display_data",
          "data": {
            "text/plain": [
              "0.25⋅zᵤ + 0.75⋅z̅ - 2 = 0.75⋅zᵤ + 0.25⋅z̅"
            ],
            "text/latex": "$\\displaystyle 0.25 z_{u} + 0.75 \\bar{z} - 2 = 0.75 z_{u} + 0.25 \\bar{z}$"
          },
          "metadata": {}
        },
        {
          "output_type": "stream",
          "name": "stdout",
          "text": [
            "\n",
            "Endog variables (inc lambdas):\n"
          ]
        },
        {
          "output_type": "display_data",
          "data": {
            "text/plain": [
              "[z̅, zᵤ]"
            ],
            "text/latex": "$\\displaystyle \\left[ \\bar{z}, \\  z_{u}\\right]$"
          },
          "metadata": {}
        },
        {
          "output_type": "display_data",
          "data": {
            "text/plain": [
              "[z̅, zᵤ, λ, μ]"
            ],
            "text/latex": "$\\displaystyle \\left[ \\bar{z}, \\  z_{u}, \\  λ, \\  μ\\right]$"
          },
          "metadata": {}
        },
        {
          "output_type": "stream",
          "name": "stdout",
          "text": [
            "\n",
            "Lagrangian to be optimised:\n"
          ]
        },
        {
          "output_type": "display_data",
          "data": {
            "text/plain": [
              "         3         3                                                          \n",
              "- 0.25⋅zᵤ  - 0.75⋅z̅  + λ⋅(0.25⋅zᵤ + 0.75⋅z̅ - 4) + μ⋅(-0.5⋅zᵤ + 0.5⋅z̅ - 2) +\n",
              "\n",
              "   \n",
              " 325.0"
            ],
            "text/latex": "$\\displaystyle - 0.25 z_{u}^{3} - 0.75 \\bar{z}^{3} + λ \\left(0.25 z_{u} + 0.75 \\bar{z} - 4\\right) + μ \\left(- 0.5 z_{u} + 0.5 \\bar{z} - 2\\right) + 325.0$"
          },
          "metadata": {}
        },
        {
          "output_type": "stream",
          "name": "stdout",
          "text": [
            "\n",
            "First-Order Conditions:\n"
          ]
        },
        {
          "output_type": "display_data",
          "data": {
            "text/plain": [
              "⎡        2                            2                                       \n",
              "⎣- 2.25⋅z̅  + 0.75⋅λ + 0.5⋅μ, - 0.75⋅zᵤ  + 0.25⋅λ - 0.5⋅μ, 0.25⋅zᵤ + 0.75⋅z̅ -\n",
              "\n",
              "                     ⎤\n",
              " 4, -0.5⋅zᵤ + 0.5⋅z̅ - 2⎦"
            ],
            "text/latex": "$\\displaystyle \\left[ - 2.25 \\bar{z}^{2} + 0.75 λ + 0.5 μ, \\  - 0.75 z_{u}^{2} + 0.25 λ - 0.5 μ, \\  0.25 z_{u} + 0.75 \\bar{z} - 4, \\  - 0.5 z_{u} + 0.5 \\bar{z} - 2\\right]$"
          },
          "metadata": {}
        },
        {
          "output_type": "stream",
          "name": "stdout",
          "text": [
            "\n",
            "μ > 0 & λ > 0 (IR & IC binding)\n"
          ]
        },
        {
          "output_type": "display_data",
          "data": {
            "text/plain": [
              "[{zᵤ: 1.0, z̅: 5.0, λ: 57.0, μ: 27.0}]"
            ],
            "text/latex": "$\\displaystyle \\left[ \\left\\{ z_{u} : 1.0, \\  \\bar{z} : 5.0, \\  λ : 57.0, \\  μ : 27.0\\right\\}\\right]$"
          },
          "metadata": {}
        },
        {
          "output_type": "stream",
          "name": "stdout",
          "text": [
            "TEST λ: True\n",
            "TEST μ: True\n",
            "\n",
            "μ = 0 & λ > 0 (IR binding)\n"
          ]
        },
        {
          "output_type": "display_data",
          "data": {
            "text/plain": [
              "[{zᵤ: -8.0, z̅: 8.0, λ: 192.0}, {zᵤ: 4.0, z̅: 4.0, λ: 48.0}]"
            ],
            "text/latex": "$\\displaystyle \\left[ \\left\\{ z_{u} : -8.0, \\  \\bar{z} : 8.0, \\  λ : 192.0\\right\\}, \\  \\left\\{ z_{u} : 4.0, \\  \\bar{z} : 4.0, \\  λ : 48.0\\right\\}\\right]$"
          },
          "metadata": {}
        },
        {
          "output_type": "display_data",
          "data": {
            "text/plain": [
              "True"
            ],
            "text/latex": "$\\displaystyle \\text{True}$"
          },
          "metadata": {}
        },
        {
          "output_type": "display_data",
          "data": {
            "text/plain": [
              "False"
            ],
            "text/latex": "$\\displaystyle \\text{False}$"
          },
          "metadata": {}
        },
        {
          "output_type": "stream",
          "name": "stdout",
          "text": [
            "\n",
            "μ > 0 & λ = 0 (IC binding)\n"
          ]
        },
        {
          "output_type": "display_data",
          "data": {
            "text/plain": [
              "[{zᵤ: -3.0 - 1.73205080756888⋅ⅈ, z̅: 1.0 - 1.73205080756888⋅ⅈ, μ: -9.0 - 15.58\n",
              "84572681199⋅ⅈ}, {zᵤ: -3.0 + 1.73205080756888⋅ⅈ, z̅: 1.0 + 1.73205080756888⋅ⅈ, \n",
              "μ: -9.0 + 15.5884572681199⋅ⅈ}]"
            ],
            "text/latex": "$\\displaystyle \\left[ \\left\\{ z_{u} : -3.0 - 1.73205080756888 i, \\  \\bar{z} : 1.0 - 1.73205080756888 i, \\  μ : -9.0 - 15.5884572681199 i\\right\\}, \\  \\left\\{ z_{u} : -3.0 + 1.73205080756888 i, \\  \\bar{z} : 1.0 + 1.73205080756888 i, \\  μ : -9.0 + 15.5884572681199 i\\right\\}\\right]$"
          },
          "metadata": {}
        },
        {
          "output_type": "stream",
          "name": "stdout",
          "text": [
            "False\n",
            "\n",
            "μ = 0 & λ = 0 (neither binding)\n"
          ]
        },
        {
          "output_type": "display_data",
          "data": {
            "text/plain": [
              "[{zᵤ: 0.0, z̅: 0.0}]"
            ],
            "text/latex": "$\\displaystyle \\left[ \\left\\{ z_{u} : 0.0, \\  \\bar{z} : 0.0\\right\\}\\right]$"
          },
          "metadata": {}
        },
        {
          "output_type": "display_data",
          "data": {
            "text/plain": [
              "False"
            ],
            "text/latex": "$\\displaystyle \\text{False}$"
          },
          "metadata": {}
        },
        {
          "output_type": "display_data",
          "data": {
            "text/plain": [
              "False"
            ],
            "text/latex": "$\\displaystyle \\text{False}$"
          },
          "metadata": {}
        }
      ]
    },
    {
      "cell_type": "code",
      "source": [
        "res[0]"
      ],
      "metadata": {
        "colab": {
          "base_uri": "https://localhost:8080/",
          "height": 39
        },
        "id": "omvKMHQKX9GP",
        "outputId": "2060f7d0-01f5-45d1-a2c9-e6bcb5ee6a7b"
      },
      "execution_count": null,
      "outputs": [
        {
          "output_type": "execute_result",
          "data": {
            "text/plain": [
              "{zᵤ: 5.0, z̅: 5.0, λ: 5.0}"
            ],
            "text/latex": "$\\displaystyle \\left\\{ z_{u} : 5.0, \\  \\bar{z} : 5.0, \\  λ : 5.0\\right\\}$"
          },
          "metadata": {},
          "execution_count": 71
        }
      ]
    },
    {
      "cell_type": "code",
      "source": [
        "FOC_temp, FOC_const_2"
      ],
      "metadata": {
        "colab": {
          "base_uri": "https://localhost:8080/",
          "height": 39
        },
        "id": "A5rcj-R0Ur77",
        "outputId": "5cecff22-fc34-4ff5-d92e-d51fd7a49198"
      },
      "execution_count": null,
      "outputs": [
        {
          "output_type": "execute_result",
          "data": {
            "text/plain": [
              "([-1.5⋅z̅ + 1.5⋅λ, -0.5⋅zᵤ + 0.5⋅λ], 0.5⋅zᵤ + 1.5⋅z̅ - 10 = 0)"
            ],
            "text/latex": "$\\displaystyle \\left( \\left[ - 1.5 \\bar{z} + 1.5 λ, \\  - 0.5 z_{u} + 0.5 λ\\right], \\  0.5 z_{u} + 1.5 \\bar{z} - 10 = 0\\right)$"
          },
          "metadata": {},
          "execution_count": 63
        }
      ]
    },
    {
      "cell_type": "code",
      "source": [
        "sols[0][μ]"
      ],
      "metadata": {
        "colab": {
          "base_uri": "https://localhost:8080/",
          "height": 37
        },
        "id": "wg1X6AOEQc3F",
        "outputId": "5906c029-5e7e-4b98-b54f-7a78b9e72d48"
      },
      "execution_count": null,
      "outputs": [
        {
          "output_type": "execute_result",
          "data": {
            "text/plain": [
              "-2.25000000000000"
            ],
            "text/latex": "$\\displaystyle -2.25$"
          },
          "metadata": {},
          "execution_count": 40
        }
      ]
    },
    {
      "cell_type": "markdown",
      "source": [
        "## Nash Equilibrium Calculation"
      ],
      "metadata": {
        "id": "O95aHUZ1MlGP"
      }
    },
    {
      "cell_type": "markdown",
      "source": [
        "1. Define contest-success function when efforts are positive.\n",
        "2. Define the expected payoff function.\n",
        "3. Derive w.r.t. the effort.\n",
        "4. Solve for one variable in terms of the other.\n",
        "5. Input back into the best response function.\n",
        "6. Solve for equilibrium effort in terms of exogenous variables."
      ],
      "metadata": {
        "id": "G8lbz_c2IeTl"
      }
    },
    {
      "cell_type": "code",
      "source": [
        "import sympy as sy\n",
        "import matplotlib.pyplot as plt\n",
        "import numpy as np\n",
        "from sympy import symbols, Function, Eq, dsolve, diff, oo, print_latex, sqrt, solve\n",
        "sy.init_printing()\n",
        "\n",
        "a, A, m, l, b, λ, w, T_0, x, y, z, β, s_, sbar, θ_, θbar, μ = sy.symbols('a A m l b λ w T_0 x y z β s sbar θ θbar μ')  # Define Symbols\n",
        "w_, wbar, z_, zbar = symbols(\"w_u wbar z_u zbar\")\n",
        "G_i, G_j = symbols(\"G_i G_j\")\n",
        "\n",
        "p_i = G_i**m/(G_i**m + G_j**m)\n",
        "Epay_i = p_i * T_0 - G_i\n",
        "\n",
        "p_j = G_j**m/(G_i**m + G_j**m)\n",
        "Epay_j = p_j * T_0 - G_i\n",
        "\n",
        "BR_i = diff(Epay_i, G_i)\n",
        "BR_j = diff(Epay_j, G_j)\n",
        "sy.simplify(Eq(BR_i, BR_j))"
      ],
      "metadata": {
        "colab": {
          "base_uri": "https://localhost:8080/",
          "height": 68
        },
        "id": "QTQTHmNgw5CN",
        "outputId": "9c23e844-ecf9-4d6e-9270-7ae22449e3dc"
      },
      "execution_count": null,
      "outputs": [
        {
          "output_type": "execute_result",
          "data": {
            "text/plain": [
              "       m    m                 m    m - 1          \n",
              "     Gᵢ ⋅G_j ⋅T₀⋅m         -Gᵢ ⋅G_j     ⋅T₀⋅m     \n",
              "1 - ──────────────── = ───────────────────────────\n",
              "                   2     2⋅m       m    m      2⋅m\n",
              "       ⎛  m      m⎞    Gᵢ    + 2⋅Gᵢ ⋅G_j  + G_j   \n",
              "    Gᵢ⋅⎝Gᵢ  + G_j ⎠                               "
            ],
            "text/latex": "$\\displaystyle 1 - \\frac{G_{i}^{m} G_{j}^{m} T_{0} m}{G_{i} \\left(G_{i}^{m} + G_{j}^{m}\\right)^{2}} = - \\frac{G_{i}^{m} G_{j}^{m - 1} T_{0} m}{G_{i}^{2 m} + 2 G_{i}^{m} G_{j}^{m} + G_{j}^{2 m}}$"
          },
          "metadata": {},
          "execution_count": 4
        }
      ]
    },
    {
      "cell_type": "code",
      "source": [
        "import sympy as sy\n",
        "import matplotlib.pyplot as plt\n",
        "import numpy as np\n",
        "from sympy import symbols, Function, Eq, dsolve, diff, oo, print_latex, sqrt, solve\n",
        "sy.init_printing()\n",
        "\n",
        "a, A, α, m, l, b, λ, w, T_0, x, y, z, β, s_, sbar, θ_, θbar, μ = sy.symbols('a A α m l b λ w T_0 x y z β s sbar θ θbar μ')  # Define Symbols\n",
        "w_, wbar, z_, zbar = symbols(\"w_u wbar z_u zbar\")\n",
        "G_i, G_j, O, B, R, p, T_i, p_aut, L, G, R_i = symbols(\"G_i G_j O B R p T_i p_aut L G R_i\")\n",
        "\n",
        "# Definitions.\n",
        "p_i = G_i**m/(G_i**m + G_j**m)\n",
        "p_j = G_j**m/(G_i**m + G_j**m)\n",
        "\n",
        "U = (O**α)*(B**β)\n",
        "CRS = Eq(α + β, 1)\n",
        "MU_O = diff(U, O)\n",
        "MU_B = diff(U, B)\n",
        "BC = Eq(p*B + O, R)\n",
        "price = Eq(p, MU_B/MU_O)\n",
        "R_eq =  T_i + T_0*p_i + p_aut*(L - G)\n",
        "\n",
        "# Demand functions.\n",
        "dems = solve([BC, price, CRS], [O, B], dict=True)\n",
        "B_dem, O_dem = dems[0][B], dems[0][O]\n",
        "B_dem = B_dem.subs({α: 1 - β})\n",
        "O_dem = O_dem.subs({β: 1 - α})\n",
        "\n",
        "# Welfare function.\n",
        "V_i = (O_dem**α)*(B_dem**β)\n",
        "V_i_R = V_i.subs({R: R_eq})\n",
        "V_idG_i = V_i_R.diff(G_i).simplify()\n"
      ],
      "metadata": {
        "id": "XQN5Ya7KywXb"
      },
      "execution_count": null,
      "outputs": []
    },
    {
      "cell_type": "code",
      "source": [
        "V_i"
      ],
      "metadata": {
        "colab": {
          "base_uri": "https://localhost:8080/",
          "height": 62
        },
        "id": "aQv-OzUV82H1",
        "outputId": "b8fb8229-8e8a-41d0-f0f5-5bc1b868ad3f"
      },
      "execution_count": null,
      "outputs": [
        {
          "output_type": "execute_result",
          "data": {
            "text/plain": [
              "            β\n",
              "     α ⎛R⋅β⎞ \n",
              "(R⋅α) ⋅⎜───⎟ \n",
              "       ⎝ p ⎠ "
            ],
            "text/latex": "$\\displaystyle \\left(R α\\right)^{α} \\left(\\frac{R β}{p}\\right)^{β}$"
          },
          "metadata": {},
          "execution_count": 94
        }
      ]
    },
    {
      "cell_type": "code",
      "source": [
        "p_aut_exp = (β/α) * ((T_i + p_i*T_0)/(L - G))\n",
        "V_2 = V_idG_i.subs({G_i: G, G_j: G, α: 1 - β, p_aut: p_aut_exp})"
      ],
      "metadata": {
        "id": "5YHTCUru7h5F"
      },
      "execution_count": null,
      "outputs": []
    },
    {
      "cell_type": "code",
      "source": [
        "import sympy as sy\n",
        "import matplotlib.pyplot as plt\n",
        "import numpy as np\n",
        "from sympy import symbols, Function, Eq, dsolve, diff, oo, print_latex, sqrt, solve, summation, IndexedBase\n",
        "sy.init_printing()\n",
        "\n",
        "a, A, α, m, l, b, λ, w, T_0, x, y, z, β, s_, sbar, θ_, θbar, μ = sy.symbols('a A α m l b λ w T_0 x y z β s sbar θ θbar μ')  # Define Symbols\n",
        "w_, wbar, z_, zbar = symbols(\"w_u wbar z_u zbar\")\n",
        "G_i, G_j, O, B, R, p, T_i, p_aut, L, G, R_i = symbols(\"G_i G_j O B R p T_i p_aut L G R_i\")\n",
        "X_ki, n_i, n_j, k, S = symbols(\"X_{ki} n_i n_j k S\")\n",
        "X_j = IndexedBase(\"X_j\")\n",
        "X_i = IndexedBase(\"X_i\")\n",
        "\n",
        "f_ki = (1-a)*X_i[k]/X_i + a/n_i\n",
        "SX_i = summation(X_i[k], (k,1,n_i))\n",
        "SX_j = summation(X_j[k], (k,1,n_j))\n",
        "Epi_i = (X_i/(SX_i + SX_j)) * S * f_ki - X_i[k]"
      ],
      "metadata": {
        "id": "RFOEun7o7Hev"
      },
      "execution_count": null,
      "outputs": []
    },
    {
      "cell_type": "code",
      "source": [
        "Epi_i.diff(X_i[k])"
      ],
      "metadata": {
        "colab": {
          "base_uri": "https://localhost:8080/",
          "height": 86
        },
        "id": "rukJVFSfgw0K",
        "outputId": "e6821f20-754a-499b-8d6d-b5adb0570dbf"
      },
      "execution_count": null,
      "outputs": [
        {
          "output_type": "execute_result",
          "data": {
            "text/plain": [
              "                                                                     nᵢ       \n",
              "                                                                    ___       \n",
              "                                                                    ╲         \n",
              "                                         ⎛a    (1 - a)⋅X_i[k]⎞       ╲        \n",
              "                                       S⋅⎜── + ──────────────⎟⋅X_i⋅  ╱   1    \n",
              "  ⎛a    (1 - a)⋅X_i[k]⎞    d             ⎝nᵢ        X_i      ⎠      ╱        S\n",
              "S⋅⎜── + ──────────────⎟⋅───────(X_i)                                ‾‾‾       \n",
              "  ⎝nᵢ        X_i      ⎠ dX_i[k]                                    k = 1      \n",
              "──────────────────────────────────── - ─────────────────────────────────── + ─\n",
              "      nᵢ            n_j                                                2      \n",
              "     ___            ___                   ⎛  nᵢ            n_j        ⎞       \n",
              "     ╲              ╲                     ⎜ ___            ___        ⎟       \n",
              "      ╲              ╲                    ⎜ ╲              ╲          ⎟       \n",
              "      ╱   X_i[k] +   ╱   X_j[k]           ⎜  ╲              ╲         ⎟       \n",
              "     ╱              ╱                     ⎜  ╱   X_i[k] +   ╱   X_j[k]⎟       \n",
              "     ‾‾‾            ‾‾‾                   ⎜ ╱              ╱          ⎟       \n",
              "    k = 1          k = 1                  ⎜ ‾‾‾            ‾‾‾        ⎟       \n",
              "                                          ⎝k = 1          k = 1       ⎠       \n",
              "\n",
              "                                                \n",
              "                                                \n",
              " ⎛             d                       ⎞        \n",
              " ⎜  (1 - a)⋅───────(X_i)⋅X_i[k]        ⎟        \n",
              " ⎜          dX_i[k]               1 - a⎟        \n",
              "⋅⎜- ─────────────────────────── + ─────⎟⋅X_i    \n",
              " ⎜                 2               X_i ⎟        \n",
              " ⎝              X_i                    ⎠        \n",
              "──────────────────────────────────────────── - 1\n",
              "          nᵢ            n_j                     \n",
              "         ___            ___                     \n",
              "         ╲              ╲                       \n",
              "          ╲              ╲                      \n",
              "          ╱   X_i[k] +   ╱   X_j[k]             \n",
              "         ╱              ╱                       \n",
              "         ‾‾‾            ‾‾‾                     \n",
              "        k = 1          k = 1                    \n",
              "                                                "
            ],
            "text/latex": "$\\displaystyle \\frac{S \\left(\\frac{a}{n_{i}} + \\frac{\\left(1 - a\\right) {X_{i}}_{k}}{X_{i}}\\right) \\frac{d}{d {X_{i}}_{k}} X_{i}}{\\sum_{k=1}^{n_{i}} {X_{i}}_{k} + \\sum_{k=1}^{n_{j}} {X_{j}}_{k}} - \\frac{S \\left(\\frac{a}{n_{i}} + \\frac{\\left(1 - a\\right) {X_{i}}_{k}}{X_{i}}\\right) X_{i} \\sum_{k=1}^{n_{i}} 1}{\\left(\\sum_{k=1}^{n_{i}} {X_{i}}_{k} + \\sum_{k=1}^{n_{j}} {X_{j}}_{k}\\right)^{2}} + \\frac{S \\left(- \\frac{\\left(1 - a\\right) \\frac{d}{d {X_{i}}_{k}} X_{i} {X_{i}}_{k}}{X_{i}^{2}} + \\frac{1 - a}{X_{i}}\\right) X_{i}}{\\sum_{k=1}^{n_{i}} {X_{i}}_{k} + \\sum_{k=1}^{n_{j}} {X_{j}}_{k}} - 1$"
          },
          "metadata": {},
          "execution_count": 22
        }
      ]
    },
    {
      "cell_type": "code",
      "source": [],
      "metadata": {
        "id": "_5Vm4B1Lg2TS"
      },
      "execution_count": null,
      "outputs": []
    }
  ]
}